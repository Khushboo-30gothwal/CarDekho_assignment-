{
  "nbformat": 4,
  "nbformat_minor": 0,
  "metadata": {
    "colab": {
      "provenance": []
    },
    "kernelspec": {
      "name": "python3",
      "display_name": "Python 3"
    },
    "language_info": {
      "name": "python"
    }
  },
  "cells": [
    {
      "cell_type": "code",
      "source": [
        "!pip install gradio"
      ],
      "metadata": {
        "collapsed": true,
        "id": "WDcYlrDip232",
        "colab": {
          "base_uri": "https://localhost:8080/"
        },
        "outputId": "f961e427-b711-4033-bff1-c1cb17a7aa38"
      },
      "execution_count": 4,
      "outputs": [
        {
          "output_type": "stream",
          "name": "stdout",
          "text": [
            "Collecting gradio\n",
            "  Downloading gradio-5.20.1-py3-none-any.whl.metadata (16 kB)\n",
            "Collecting aiofiles<24.0,>=22.0 (from gradio)\n",
            "  Downloading aiofiles-23.2.1-py3-none-any.whl.metadata (9.7 kB)\n",
            "Requirement already satisfied: anyio<5.0,>=3.0 in /usr/local/lib/python3.11/dist-packages (from gradio) (3.7.1)\n",
            "Collecting fastapi<1.0,>=0.115.2 (from gradio)\n",
            "  Downloading fastapi-0.115.11-py3-none-any.whl.metadata (27 kB)\n",
            "Collecting ffmpy (from gradio)\n",
            "  Downloading ffmpy-0.5.0-py3-none-any.whl.metadata (3.0 kB)\n",
            "Collecting gradio-client==1.7.2 (from gradio)\n",
            "  Downloading gradio_client-1.7.2-py3-none-any.whl.metadata (7.1 kB)\n",
            "Collecting groovy~=0.1 (from gradio)\n",
            "  Downloading groovy-0.1.2-py3-none-any.whl.metadata (6.1 kB)\n",
            "Requirement already satisfied: httpx>=0.24.1 in /usr/local/lib/python3.11/dist-packages (from gradio) (0.28.1)\n",
            "Requirement already satisfied: huggingface-hub>=0.28.1 in /usr/local/lib/python3.11/dist-packages (from gradio) (0.28.1)\n",
            "Requirement already satisfied: jinja2<4.0 in /usr/local/lib/python3.11/dist-packages (from gradio) (3.1.6)\n",
            "Collecting markupsafe~=2.0 (from gradio)\n",
            "  Downloading MarkupSafe-2.1.5-cp311-cp311-manylinux_2_17_x86_64.manylinux2014_x86_64.whl.metadata (3.0 kB)\n",
            "Requirement already satisfied: numpy<3.0,>=1.0 in /usr/local/lib/python3.11/dist-packages (from gradio) (1.26.4)\n",
            "Requirement already satisfied: orjson~=3.0 in /usr/local/lib/python3.11/dist-packages (from gradio) (3.10.15)\n",
            "Requirement already satisfied: packaging in /usr/local/lib/python3.11/dist-packages (from gradio) (24.2)\n",
            "Requirement already satisfied: pandas<3.0,>=1.0 in /usr/local/lib/python3.11/dist-packages (from gradio) (2.2.2)\n",
            "Requirement already satisfied: pillow<12.0,>=8.0 in /usr/local/lib/python3.11/dist-packages (from gradio) (11.1.0)\n",
            "Requirement already satisfied: pydantic>=2.0 in /usr/local/lib/python3.11/dist-packages (from gradio) (2.10.6)\n",
            "Collecting pydub (from gradio)\n",
            "  Downloading pydub-0.25.1-py2.py3-none-any.whl.metadata (1.4 kB)\n",
            "Collecting python-multipart>=0.0.18 (from gradio)\n",
            "  Downloading python_multipart-0.0.20-py3-none-any.whl.metadata (1.8 kB)\n",
            "Requirement already satisfied: pyyaml<7.0,>=5.0 in /usr/local/lib/python3.11/dist-packages (from gradio) (6.0.2)\n",
            "Collecting ruff>=0.9.3 (from gradio)\n",
            "  Downloading ruff-0.9.10-py3-none-manylinux_2_17_x86_64.manylinux2014_x86_64.whl.metadata (25 kB)\n",
            "Collecting safehttpx<0.2.0,>=0.1.6 (from gradio)\n",
            "  Downloading safehttpx-0.1.6-py3-none-any.whl.metadata (4.2 kB)\n",
            "Collecting semantic-version~=2.0 (from gradio)\n",
            "  Downloading semantic_version-2.10.0-py2.py3-none-any.whl.metadata (9.7 kB)\n",
            "Collecting starlette<1.0,>=0.40.0 (from gradio)\n",
            "  Downloading starlette-0.46.1-py3-none-any.whl.metadata (6.2 kB)\n",
            "Collecting tomlkit<0.14.0,>=0.12.0 (from gradio)\n",
            "  Downloading tomlkit-0.13.2-py3-none-any.whl.metadata (2.7 kB)\n",
            "Requirement already satisfied: typer<1.0,>=0.12 in /usr/local/lib/python3.11/dist-packages (from gradio) (0.15.2)\n",
            "Requirement already satisfied: typing-extensions~=4.0 in /usr/local/lib/python3.11/dist-packages (from gradio) (4.12.2)\n",
            "Collecting uvicorn>=0.14.0 (from gradio)\n",
            "  Downloading uvicorn-0.34.0-py3-none-any.whl.metadata (6.5 kB)\n",
            "Requirement already satisfied: fsspec in /usr/local/lib/python3.11/dist-packages (from gradio-client==1.7.2->gradio) (2024.10.0)\n",
            "Requirement already satisfied: websockets<16.0,>=10.0 in /usr/local/lib/python3.11/dist-packages (from gradio-client==1.7.2->gradio) (14.2)\n",
            "Requirement already satisfied: idna>=2.8 in /usr/local/lib/python3.11/dist-packages (from anyio<5.0,>=3.0->gradio) (3.10)\n",
            "Requirement already satisfied: sniffio>=1.1 in /usr/local/lib/python3.11/dist-packages (from anyio<5.0,>=3.0->gradio) (1.3.1)\n",
            "Requirement already satisfied: certifi in /usr/local/lib/python3.11/dist-packages (from httpx>=0.24.1->gradio) (2025.1.31)\n",
            "Requirement already satisfied: httpcore==1.* in /usr/local/lib/python3.11/dist-packages (from httpx>=0.24.1->gradio) (1.0.7)\n",
            "Requirement already satisfied: h11<0.15,>=0.13 in /usr/local/lib/python3.11/dist-packages (from httpcore==1.*->httpx>=0.24.1->gradio) (0.14.0)\n",
            "Requirement already satisfied: filelock in /usr/local/lib/python3.11/dist-packages (from huggingface-hub>=0.28.1->gradio) (3.17.0)\n",
            "Requirement already satisfied: requests in /usr/local/lib/python3.11/dist-packages (from huggingface-hub>=0.28.1->gradio) (2.32.3)\n",
            "Requirement already satisfied: tqdm>=4.42.1 in /usr/local/lib/python3.11/dist-packages (from huggingface-hub>=0.28.1->gradio) (4.67.1)\n",
            "Requirement already satisfied: python-dateutil>=2.8.2 in /usr/local/lib/python3.11/dist-packages (from pandas<3.0,>=1.0->gradio) (2.8.2)\n",
            "Requirement already satisfied: pytz>=2020.1 in /usr/local/lib/python3.11/dist-packages (from pandas<3.0,>=1.0->gradio) (2025.1)\n",
            "Requirement already satisfied: tzdata>=2022.7 in /usr/local/lib/python3.11/dist-packages (from pandas<3.0,>=1.0->gradio) (2025.1)\n",
            "Requirement already satisfied: annotated-types>=0.6.0 in /usr/local/lib/python3.11/dist-packages (from pydantic>=2.0->gradio) (0.7.0)\n",
            "Requirement already satisfied: pydantic-core==2.27.2 in /usr/local/lib/python3.11/dist-packages (from pydantic>=2.0->gradio) (2.27.2)\n",
            "Requirement already satisfied: click>=8.0.0 in /usr/local/lib/python3.11/dist-packages (from typer<1.0,>=0.12->gradio) (8.1.8)\n",
            "Requirement already satisfied: shellingham>=1.3.0 in /usr/local/lib/python3.11/dist-packages (from typer<1.0,>=0.12->gradio) (1.5.4)\n",
            "Requirement already satisfied: rich>=10.11.0 in /usr/local/lib/python3.11/dist-packages (from typer<1.0,>=0.12->gradio) (13.9.4)\n",
            "Requirement already satisfied: six>=1.5 in /usr/local/lib/python3.11/dist-packages (from python-dateutil>=2.8.2->pandas<3.0,>=1.0->gradio) (1.17.0)\n",
            "Requirement already satisfied: markdown-it-py>=2.2.0 in /usr/local/lib/python3.11/dist-packages (from rich>=10.11.0->typer<1.0,>=0.12->gradio) (3.0.0)\n",
            "Requirement already satisfied: pygments<3.0.0,>=2.13.0 in /usr/local/lib/python3.11/dist-packages (from rich>=10.11.0->typer<1.0,>=0.12->gradio) (2.18.0)\n",
            "Requirement already satisfied: charset-normalizer<4,>=2 in /usr/local/lib/python3.11/dist-packages (from requests->huggingface-hub>=0.28.1->gradio) (3.4.1)\n",
            "Requirement already satisfied: urllib3<3,>=1.21.1 in /usr/local/lib/python3.11/dist-packages (from requests->huggingface-hub>=0.28.1->gradio) (2.3.0)\n",
            "Requirement already satisfied: mdurl~=0.1 in /usr/local/lib/python3.11/dist-packages (from markdown-it-py>=2.2.0->rich>=10.11.0->typer<1.0,>=0.12->gradio) (0.1.2)\n",
            "Downloading gradio-5.20.1-py3-none-any.whl (62.3 MB)\n",
            "\u001b[2K   \u001b[90m━━━━━━━━━━━━━━━━━━━━━━━━━━━━━━━━━━━━━━━━\u001b[0m \u001b[32m62.3/62.3 MB\u001b[0m \u001b[31m10.8 MB/s\u001b[0m eta \u001b[36m0:00:00\u001b[0m\n",
            "\u001b[?25hDownloading gradio_client-1.7.2-py3-none-any.whl (322 kB)\n",
            "\u001b[2K   \u001b[90m━━━━━━━━━━━━━━━━━━━━━━━━━━━━━━━━━━━━━━━━\u001b[0m \u001b[32m322.1/322.1 kB\u001b[0m \u001b[31m22.7 MB/s\u001b[0m eta \u001b[36m0:00:00\u001b[0m\n",
            "\u001b[?25hDownloading aiofiles-23.2.1-py3-none-any.whl (15 kB)\n",
            "Downloading fastapi-0.115.11-py3-none-any.whl (94 kB)\n",
            "\u001b[2K   \u001b[90m━━━━━━━━━━━━━━━━━━━━━━━━━━━━━━━━━━━━━━━━\u001b[0m \u001b[32m94.9/94.9 kB\u001b[0m \u001b[31m6.9 MB/s\u001b[0m eta \u001b[36m0:00:00\u001b[0m\n",
            "\u001b[?25hDownloading groovy-0.1.2-py3-none-any.whl (14 kB)\n",
            "Downloading MarkupSafe-2.1.5-cp311-cp311-manylinux_2_17_x86_64.manylinux2014_x86_64.whl (28 kB)\n",
            "Downloading python_multipart-0.0.20-py3-none-any.whl (24 kB)\n",
            "Downloading ruff-0.9.10-py3-none-manylinux_2_17_x86_64.manylinux2014_x86_64.whl (11.3 MB)\n",
            "\u001b[2K   \u001b[90m━━━━━━━━━━━━━━━━━━━━━━━━━━━━━━━━━━━━━━━━\u001b[0m \u001b[32m11.3/11.3 MB\u001b[0m \u001b[31m86.5 MB/s\u001b[0m eta \u001b[36m0:00:00\u001b[0m\n",
            "\u001b[?25hDownloading safehttpx-0.1.6-py3-none-any.whl (8.7 kB)\n",
            "Downloading semantic_version-2.10.0-py2.py3-none-any.whl (15 kB)\n",
            "Downloading starlette-0.46.1-py3-none-any.whl (71 kB)\n",
            "\u001b[2K   \u001b[90m━━━━━━━━━━━━━━━━━━━━━━━━━━━━━━━━━━━━━━━━\u001b[0m \u001b[32m72.0/72.0 kB\u001b[0m \u001b[31m5.9 MB/s\u001b[0m eta \u001b[36m0:00:00\u001b[0m\n",
            "\u001b[?25hDownloading tomlkit-0.13.2-py3-none-any.whl (37 kB)\n",
            "Downloading uvicorn-0.34.0-py3-none-any.whl (62 kB)\n",
            "\u001b[2K   \u001b[90m━━━━━━━━━━━━━━━━━━━━━━━━━━━━━━━━━━━━━━━━\u001b[0m \u001b[32m62.3/62.3 kB\u001b[0m \u001b[31m3.6 MB/s\u001b[0m eta \u001b[36m0:00:00\u001b[0m\n",
            "\u001b[?25hDownloading ffmpy-0.5.0-py3-none-any.whl (6.0 kB)\n",
            "Downloading pydub-0.25.1-py2.py3-none-any.whl (32 kB)\n",
            "Installing collected packages: pydub, uvicorn, tomlkit, semantic-version, ruff, python-multipart, markupsafe, groovy, ffmpy, aiofiles, starlette, safehttpx, gradio-client, fastapi, gradio\n",
            "  Attempting uninstall: markupsafe\n",
            "    Found existing installation: MarkupSafe 3.0.2\n",
            "    Uninstalling MarkupSafe-3.0.2:\n",
            "      Successfully uninstalled MarkupSafe-3.0.2\n",
            "\u001b[31mERROR: pip's dependency resolver does not currently take into account all the packages that are installed. This behaviour is the source of the following dependency conflicts.\n",
            "torch 2.5.1+cu124 requires nvidia-cublas-cu12==12.4.5.8; platform_system == \"Linux\" and platform_machine == \"x86_64\", but you have nvidia-cublas-cu12 12.5.3.2 which is incompatible.\n",
            "torch 2.5.1+cu124 requires nvidia-cuda-cupti-cu12==12.4.127; platform_system == \"Linux\" and platform_machine == \"x86_64\", but you have nvidia-cuda-cupti-cu12 12.5.82 which is incompatible.\n",
            "torch 2.5.1+cu124 requires nvidia-cuda-nvrtc-cu12==12.4.127; platform_system == \"Linux\" and platform_machine == \"x86_64\", but you have nvidia-cuda-nvrtc-cu12 12.5.82 which is incompatible.\n",
            "torch 2.5.1+cu124 requires nvidia-cuda-runtime-cu12==12.4.127; platform_system == \"Linux\" and platform_machine == \"x86_64\", but you have nvidia-cuda-runtime-cu12 12.5.82 which is incompatible.\n",
            "torch 2.5.1+cu124 requires nvidia-cudnn-cu12==9.1.0.70; platform_system == \"Linux\" and platform_machine == \"x86_64\", but you have nvidia-cudnn-cu12 9.3.0.75 which is incompatible.\n",
            "torch 2.5.1+cu124 requires nvidia-cufft-cu12==11.2.1.3; platform_system == \"Linux\" and platform_machine == \"x86_64\", but you have nvidia-cufft-cu12 11.2.3.61 which is incompatible.\n",
            "torch 2.5.1+cu124 requires nvidia-curand-cu12==10.3.5.147; platform_system == \"Linux\" and platform_machine == \"x86_64\", but you have nvidia-curand-cu12 10.3.6.82 which is incompatible.\n",
            "torch 2.5.1+cu124 requires nvidia-cusolver-cu12==11.6.1.9; platform_system == \"Linux\" and platform_machine == \"x86_64\", but you have nvidia-cusolver-cu12 11.6.3.83 which is incompatible.\n",
            "torch 2.5.1+cu124 requires nvidia-cusparse-cu12==12.3.1.170; platform_system == \"Linux\" and platform_machine == \"x86_64\", but you have nvidia-cusparse-cu12 12.5.1.3 which is incompatible.\n",
            "torch 2.5.1+cu124 requires nvidia-nvjitlink-cu12==12.4.127; platform_system == \"Linux\" and platform_machine == \"x86_64\", but you have nvidia-nvjitlink-cu12 12.5.82 which is incompatible.\u001b[0m\u001b[31m\n",
            "\u001b[0mSuccessfully installed aiofiles-23.2.1 fastapi-0.115.11 ffmpy-0.5.0 gradio-5.20.1 gradio-client-1.7.2 groovy-0.1.2 markupsafe-2.1.5 pydub-0.25.1 python-multipart-0.0.20 ruff-0.9.10 safehttpx-0.1.6 semantic-version-2.10.0 starlette-0.46.1 tomlkit-0.13.2 uvicorn-0.34.0\n"
          ]
        }
      ]
    },
    {
      "cell_type": "code",
      "execution_count": 5,
      "metadata": {
        "id": "8dvfV_0gpu9y"
      },
      "outputs": [],
      "source": [
        "import gradio as gr\n",
        "import pandas as pd\n",
        "import matplotlib.pyplot as plt\n",
        "from pydantic import BaseModel, ValidationError"
      ]
    },
    {
      "cell_type": "code",
      "source": [
        "# Define a Pydantic model for user queries\n",
        "class QueryModel(BaseModel):\n",
        "    question: str"
      ],
      "metadata": {
        "id": "FSyYOqklp5GJ"
      },
      "execution_count": 6,
      "outputs": []
    },
    {
      "cell_type": "code",
      "source": [
        "# Function to load and validate CSV file\n",
        "def load_csv(file):\n",
        "    try:\n",
        "        df = pd.read_csv(file.name)\n",
        "        df.columns = df.columns.str.lower()  # Normalize column names to lowercase\n",
        "        return df\n",
        "    except Exception as e:\n",
        "        return f\"Error loading CSV: {str(e)}\"\n",
        "\n"
      ],
      "metadata": {
        "id": "e2i-lPwZsuhL"
      },
      "execution_count": 7,
      "outputs": []
    },
    {
      "cell_type": "code",
      "source": [
        "# Function to answer general queries on any CSV file\n",
        "def answer_query(file, question):\n",
        "    df = load_csv(file)\n",
        "    if isinstance(df, str):\n",
        "        return df  # Return error message if CSV fails to load\n",
        "\n",
        "    try:\n",
        "        validated_query = QueryModel(question=question)\n",
        "    except ValidationError as e:\n",
        "        return f\"Invalid question format: {e}\"\n",
        "\n",
        "    question = validated_query.question.lower()\n",
        "    numeric_cols = df.select_dtypes(include=['number']).columns  # Detect numeric columns\n",
        "\n",
        "    if numeric_cols.empty:\n",
        "        return \"No numeric columns found in the file. Cannot compute statistical queries.\"\n",
        "\n",
        "    # Identify keywords\n",
        "    if \"average\" in question or \"mean\" in question:\n",
        "        col_name = extract_column_name(question, numeric_cols)\n",
        "        if col_name:\n",
        "            return f\"Average {col_name}: {df[col_name].mean():,.2f}\"\n",
        "        return f\"Available numeric columns: {', '.join(numeric_cols)}\"\n",
        "\n",
        "    elif \"max\" in question:\n",
        "        col_name = extract_column_name(question, numeric_cols)\n",
        "        if col_name:\n",
        "            return f\"Max {col_name}: {df[col_name].max():,.2f}\"\n",
        "        return f\"Available numeric columns: {', '.join(numeric_cols)}\"\n",
        "\n",
        "    elif \"min\" in question:\n",
        "        col_name = extract_column_name(question, numeric_cols)\n",
        "        if col_name:\n",
        "            return f\"Min {col_name}: {df[col_name].min():,.2f}\"\n",
        "        return f\"Available numeric columns: {', '.join(numeric_cols)}\"\n",
        "\n",
        "    elif \"total\" in question or \"count\" in question:\n",
        "        return f\"Total Rows: {len(df)}\"\n",
        "\n",
        "    elif \"standard deviation\" in question or \"std\" in question:\n",
        "        col_name = extract_column_name(question, numeric_cols)\n",
        "        if col_name:\n",
        "            return f\"Standard Deviation of {col_name}: {df[col_name].std():,.2f}\"\n",
        "        return f\"Available numeric columns: {', '.join(numeric_cols)}\"\n",
        "\n",
        "    elif \"most expensive\" in question or \"highest value\" in question:\n",
        "        col_name = extract_column_name(question, numeric_cols)\n",
        "        if col_name:\n",
        "            max_row = df.loc[df[col_name].idxmax()]\n",
        "            return f\"Most Expensive (Highest {col_name}): {max_row.to_dict()}\"\n",
        "        return f\"Available numeric columns: {', '.join(numeric_cols)}\"\n",
        "\n",
        "    elif \"cheapest\" in question or \"lowest value\" in question:\n",
        "        col_name = extract_column_name(question, numeric_cols)\n",
        "        if col_name:\n",
        "            min_row = df.loc[df[col_name].idxmin()]\n",
        "            return f\"Cheapest (Lowest {col_name}): {min_row.to_dict()}\"\n",
        "        return f\"Available numeric columns: {', '.join(numeric_cols)}\"\n",
        "\n",
        "    else:\n",
        "        return \"Query not recognized. Try asking about average, max, min, total, or standard deviation.\"\n",
        "\n",
        "# Helper function to extract the most relevant column from a question\n",
        "def extract_column_name(question, numeric_cols):\n",
        "    for col in numeric_cols:\n",
        "        if col in question:\n",
        "            return col\n",
        "    return numeric_cols[0] if len(numeric_cols) == 1 else None\n"
      ],
      "metadata": {
        "id": "XZ532tJgsvVk"
      },
      "execution_count": 8,
      "outputs": []
    },
    {
      "cell_type": "code",
      "source": [
        "# Function to plot a graph dynamically\n",
        "def plot_graph(file, x_col, y_col, plot_type):\n",
        "    df = load_csv(file)\n",
        "    if isinstance(df, str):\n",
        "        return df\n",
        "\n",
        "    # Convert column names to lowercase for uniformity\n",
        "    x_col = x_col.lower().replace(\" \", \"_\")\n",
        "    y_col = y_col.lower().replace(\" \", \"_\")\n",
        "\n",
        "    # Validate if columns exist in the dataset\n",
        "    if x_col not in df.columns or y_col not in df.columns:\n",
        "        return f\"Invalid column names: {x_col} or {y_col} not found in dataset.\"\n",
        "\n",
        "    try:\n",
        "        # Convert numeric columns properly\n",
        "        df[y_col] = pd.to_numeric(df[y_col], errors='coerce')\n",
        "        df[x_col] = pd.to_numeric(df[x_col], errors='coerce') if df[x_col].dtype != 'O' else df[x_col]\n",
        "        df = df.dropna(subset=[x_col, y_col])  # Drop NaN values\n",
        "\n",
        "    except Exception as e:\n",
        "        return f\"Error processing columns: {str(e)}\"\n",
        "\n",
        "    # Create figure\n",
        "    fig, ax = plt.subplots(figsize=(8, 5))\n",
        "\n",
        "    # Plot based on type\n",
        "    if plot_type == \"line\":\n",
        "        ax.plot(df[x_col], df[y_col], marker='o', linestyle='-', color='black')\n",
        "    elif plot_type == \"scatter\":\n",
        "        ax.scatter(df[x_col], df[y_col], color='black')\n",
        "    elif plot_type == \"bar\":\n",
        "        ax.bar(df[x_col].astype(str), df[y_col], color='black')  # Convert x_col to string for categorical values\n",
        "    elif plot_type == \"histogram\":\n",
        "        ax.hist(df[y_col], bins=10, alpha=0.7, color='black')\n",
        "    else:\n",
        "        return \"Invalid plot type. Choose from: line, scatter, bar, histogram.\"\n",
        "\n",
        "    # Labels and title\n",
        "    ax.set_xlabel(x_col.replace(\"_\", \" \").title())\n",
        "    ax.set_ylabel(y_col.replace(\"_\", \" \").title())\n",
        "    ax.set_title(f'{y_col.replace(\"_\", \" \").title()} vs {x_col.replace(\"_\", \" \").title()}')\n",
        "    ax.grid()\n",
        "\n",
        "    plt.xticks(rotation=45)  # Rotate x-axis labels for better visibility\n",
        "    plt.show()  # Show plot in Google Colab\n",
        "\n",
        "    return fig  # Return figure for further use\n",
        "\n"
      ],
      "metadata": {
        "id": "Vsf8xBjQsyOu"
      },
      "execution_count": 9,
      "outputs": []
    },
    {
      "cell_type": "code",
      "source": [
        "# Gradio Interface\n",
        "with gr.Blocks() as app:\n",
        "    gr.Markdown(\"## CSV Question Answering & Visualization\")\n",
        "\n",
        "    file_input = gr.File(label=\"Upload CSV\", type=\"filepath\")\n",
        "    query_input = gr.Textbox(label=\"Ask a Question\")\n",
        "    query_output = gr.Textbox(label=\"Answer\", interactive=False)\n",
        "\n",
        "    x_column = gr.Textbox(label=\"X-Axis Column\")\n",
        "    y_column = gr.Textbox(label=\"Y-Axis Column\")\n",
        "    plot_type = gr.Dropdown(choices=[\"line\", \"scatter\", \"bar\", \"histogram\"], label=\"Select Plot Type\")\n",
        "    plot_output = gr.Plot(label=\"Plot\")\n",
        "\n",
        "    query_button = gr.Button(\"Get Answer\")\n",
        "    plot_button = gr.Button(\"Generate Plot\")\n",
        "\n",
        "    query_button.click(fn=answer_query, inputs=[file_input, query_input], outputs=query_output)\n",
        "    plot_button.click(fn=plot_graph, inputs=[file_input, x_column, y_column, plot_type], outputs=plot_output)\n",
        "\n",
        "app.launch(share=True)"
      ],
      "metadata": {
        "id": "OkZlXn0xs0jx",
        "outputId": "678b389e-608f-420b-ff96-be473c58c9c9",
        "colab": {
          "base_uri": "https://localhost:8080/",
          "height": 611
        }
      },
      "execution_count": 10,
      "outputs": [
        {
          "output_type": "stream",
          "name": "stdout",
          "text": [
            "Colab notebook detected. To show errors in colab notebook, set debug=True in launch()\n",
            "* Running on public URL: https://3b86e450ed527d7e31.gradio.live\n",
            "\n",
            "This share link expires in 72 hours. For free permanent hosting and GPU upgrades, run `gradio deploy` from the terminal in the working directory to deploy to Hugging Face Spaces (https://huggingface.co/spaces)\n"
          ]
        },
        {
          "output_type": "display_data",
          "data": {
            "text/plain": [
              "<IPython.core.display.HTML object>"
            ],
            "text/html": [
              "<div><iframe src=\"https://3b86e450ed527d7e31.gradio.live\" width=\"100%\" height=\"500\" allow=\"autoplay; camera; microphone; clipboard-read; clipboard-write;\" frameborder=\"0\" allowfullscreen></iframe></div>"
            ]
          },
          "metadata": {}
        },
        {
          "output_type": "execute_result",
          "data": {
            "text/plain": []
          },
          "metadata": {},
          "execution_count": 10
        }
      ]
    }
  ]
}