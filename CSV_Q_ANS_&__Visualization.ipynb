{
  "nbformat": 4,
  "nbformat_minor": 0,
  "metadata": {
    "colab": {
      "provenance": []
    },
    "kernelspec": {
      "name": "python3",
      "display_name": "Python 3"
    },
    "language_info": {
      "name": "python"
    }
  },
  "cells": [
    {
      "cell_type": "code",
      "source": [
        "# !pip install gradio"
      ],
      "metadata": {
        "collapsed": true,
        "id": "WDcYlrDip232"
      },
      "execution_count": 57,
      "outputs": []
    },
    {
      "cell_type": "code",
      "execution_count": 58,
      "metadata": {
        "id": "8dvfV_0gpu9y"
      },
      "outputs": [],
      "source": [
        "import gradio as gr\n",
        "import pandas as pd\n",
        "import matplotlib.pyplot as plt\n",
        "from pydantic import BaseModel, ValidationError"
      ]
    },
    {
      "cell_type": "code",
      "source": [
        "# Define a Pydantic model for user queries\n",
        "class QueryModel(BaseModel):\n",
        "    question: str"
      ],
      "metadata": {
        "id": "FSyYOqklp5GJ"
      },
      "execution_count": 59,
      "outputs": []
    },
    {
      "cell_type": "code",
      "source": [
        "# Function to load and validate CSV file\n",
        "def load_csv(file):\n",
        "    try:\n",
        "        df = pd.read_csv(file.name)\n",
        "        df.columns = df.columns.str.lower()  # Normalize column names to lowercase\n",
        "        return df\n",
        "    except Exception as e:\n",
        "        return f\"Error loading CSV: {str(e)}\"\n",
        "\n"
      ],
      "metadata": {
        "id": "e2i-lPwZsuhL"
      },
      "execution_count": 60,
      "outputs": []
    },
    {
      "cell_type": "code",
      "source": [
        "# Function to answer general queries on any CSV file\n",
        "def answer_query(file, question):\n",
        "    df = load_csv(file)\n",
        "    if isinstance(df, str):\n",
        "        return df  # Return error message if CSV fails to load\n",
        "\n",
        "    try:\n",
        "        validated_query = QueryModel(question=question)\n",
        "    except ValidationError as e:\n",
        "        return f\"Invalid question format: {e}\"\n",
        "\n",
        "    question = validated_query.question.lower()\n",
        "    numeric_cols = df.select_dtypes(include=['number']).columns  # Detect numeric columns\n",
        "\n",
        "    if numeric_cols.empty:\n",
        "        return \"No numeric columns found in the file. Cannot compute statistical queries.\"\n",
        "\n",
        "    # Identify keywords\n",
        "    if \"average\" in question or \"mean\" in question:\n",
        "        col_name = extract_column_name(question, numeric_cols)\n",
        "        if col_name:\n",
        "            return f\"Average {col_name}: {df[col_name].mean():,.2f}\"\n",
        "        return f\"Available numeric columns: {', '.join(numeric_cols)}\"\n",
        "\n",
        "    elif \"max\" in question:\n",
        "        col_name = extract_column_name(question, numeric_cols)\n",
        "        if col_name:\n",
        "            return f\"Max {col_name}: {df[col_name].max():,.2f}\"\n",
        "        return f\"Available numeric columns: {', '.join(numeric_cols)}\"\n",
        "\n",
        "    elif \"min\" in question:\n",
        "        col_name = extract_column_name(question, numeric_cols)\n",
        "        if col_name:\n",
        "            return f\"Min {col_name}: {df[col_name].min():,.2f}\"\n",
        "        return f\"Available numeric columns: {', '.join(numeric_cols)}\"\n",
        "\n",
        "    elif \"total\" in question or \"count\" in question:\n",
        "        return f\"Total Rows: {len(df)}\"\n",
        "\n",
        "    elif \"standard deviation\" in question or \"std\" in question:\n",
        "        col_name = extract_column_name(question, numeric_cols)\n",
        "        if col_name:\n",
        "            return f\"Standard Deviation of {col_name}: {df[col_name].std():,.2f}\"\n",
        "        return f\"Available numeric columns: {', '.join(numeric_cols)}\"\n",
        "\n",
        "    elif \"most expensive\" in question or \"highest value\" in question:\n",
        "        col_name = extract_column_name(question, numeric_cols)\n",
        "        if col_name:\n",
        "            max_row = df.loc[df[col_name].idxmax()]\n",
        "            return f\"Most Expensive (Highest {col_name}): {max_row.to_dict()}\"\n",
        "        return f\"Available numeric columns: {', '.join(numeric_cols)}\"\n",
        "\n",
        "    elif \"cheapest\" in question or \"lowest value\" in question:\n",
        "        col_name = extract_column_name(question, numeric_cols)\n",
        "        if col_name:\n",
        "            min_row = df.loc[df[col_name].idxmin()]\n",
        "            return f\"Cheapest (Lowest {col_name}): {min_row.to_dict()}\"\n",
        "        return f\"Available numeric columns: {', '.join(numeric_cols)}\"\n",
        "\n",
        "    else:\n",
        "        return \"Query not recognized. Try asking about average, max, min, total, or standard deviation.\"\n",
        "\n",
        "# Helper function to extract the most relevant column from a question\n",
        "def extract_column_name(question, numeric_cols):\n",
        "    for col in numeric_cols:\n",
        "        if col in question:\n",
        "            return col\n",
        "    return numeric_cols[0] if len(numeric_cols) == 1 else None\n"
      ],
      "metadata": {
        "id": "XZ532tJgsvVk"
      },
      "execution_count": 61,
      "outputs": []
    },
    {
      "cell_type": "code",
      "source": [
        "# Function to plot a graph dynamically\n",
        "def plot_graph(file, x_col, y_col, plot_type):\n",
        "    df = load_csv(file)\n",
        "    if isinstance(df, str):\n",
        "        return df\n",
        "\n",
        "    # Convert column names to lowercase for uniformity\n",
        "    x_col = x_col.lower().replace(\" \", \"_\")\n",
        "    y_col = y_col.lower().replace(\" \", \"_\")\n",
        "\n",
        "    # Validate if columns exist in the dataset\n",
        "    if x_col not in df.columns or y_col not in df.columns:\n",
        "        return f\"Invalid column names: {x_col} or {y_col} not found in dataset.\"\n",
        "\n",
        "    try:\n",
        "        # Convert numeric columns properly\n",
        "        df[y_col] = pd.to_numeric(df[y_col], errors='coerce')\n",
        "        df[x_col] = pd.to_numeric(df[x_col], errors='coerce') if df[x_col].dtype != 'O' else df[x_col]\n",
        "        df = df.dropna(subset=[x_col, y_col])  # Drop NaN values\n",
        "\n",
        "    except Exception as e:\n",
        "        return f\"Error processing columns: {str(e)}\"\n",
        "\n",
        "    # Create figure\n",
        "    fig, ax = plt.subplots(figsize=(8, 5))\n",
        "\n",
        "    # Plot based on type\n",
        "    if plot_type == \"line\":\n",
        "        ax.plot(df[x_col], df[y_col], marker='o', linestyle='-', color='black')\n",
        "    elif plot_type == \"scatter\":\n",
        "        ax.scatter(df[x_col], df[y_col], color='black')\n",
        "    elif plot_type == \"bar\":\n",
        "        ax.bar(df[x_col].astype(str), df[y_col], color='black')  # Convert x_col to string for categorical values\n",
        "    elif plot_type == \"histogram\":\n",
        "        ax.hist(df[y_col], bins=10, alpha=0.7, color='black')\n",
        "    else:\n",
        "        return \"Invalid plot type. Choose from: line, scatter, bar, histogram.\"\n",
        "\n",
        "    # Labels and title\n",
        "    ax.set_xlabel(x_col.replace(\"_\", \" \").title())\n",
        "    ax.set_ylabel(y_col.replace(\"_\", \" \").title())\n",
        "    ax.set_title(f'{y_col.replace(\"_\", \" \").title()} vs {x_col.replace(\"_\", \" \").title()}')\n",
        "    ax.grid()\n",
        "\n",
        "    plt.xticks(rotation=45)  # Rotate x-axis labels for better visibility\n",
        "    plt.show()  # Show plot in Google Colab\n",
        "\n",
        "    return fig  # Return figure for further use\n",
        "\n"
      ],
      "metadata": {
        "id": "Vsf8xBjQsyOu"
      },
      "execution_count": 62,
      "outputs": []
    },
    {
      "cell_type": "code",
      "source": [
        "# Gradio Interface\n",
        "with gr.Blocks() as app:\n",
        "    gr.Markdown(\"## 🏡 CSV Question Answering & Visualization\")\n",
        "\n",
        "    file_input = gr.File(label=\"Upload CSV\", type=\"filepath\")\n",
        "    query_input = gr.Textbox(label=\"Ask a Question\")\n",
        "    query_output = gr.Textbox(label=\"Answer\", interactive=False)\n",
        "\n",
        "    x_column = gr.Textbox(label=\"X-Axis Column\")\n",
        "    y_column = gr.Textbox(label=\"Y-Axis Column\")\n",
        "    plot_type = gr.Dropdown(choices=[\"line\", \"scatter\", \"bar\", \"histogram\"], label=\"Select Plot Type\")\n",
        "    plot_output = gr.Plot(label=\"Plot\")\n",
        "\n",
        "    query_button = gr.Button(\"Get Answer\")\n",
        "    plot_button = gr.Button(\"Generate Plot\")\n",
        "\n",
        "    query_button.click(fn=answer_query, inputs=[file_input, query_input], outputs=query_output)\n",
        "    plot_button.click(fn=plot_graph, inputs=[file_input, x_column, y_column, plot_type], outputs=plot_output)\n",
        "\n",
        "app.launch(share=True)"
      ],
      "metadata": {
        "id": "OkZlXn0xs0jx",
        "outputId": "23e69dd5-87fd-4e72-f323-011528ea7b68",
        "colab": {
          "base_uri": "https://localhost:8080/",
          "height": 611
        }
      },
      "execution_count": 63,
      "outputs": [
        {
          "output_type": "stream",
          "name": "stdout",
          "text": [
            "Colab notebook detected. To show errors in colab notebook, set debug=True in launch()\n",
            "* Running on public URL: https://6e2a8e504a144cd72b.gradio.live\n",
            "\n",
            "This share link expires in 72 hours. For free permanent hosting and GPU upgrades, run `gradio deploy` from the terminal in the working directory to deploy to Hugging Face Spaces (https://huggingface.co/spaces)\n"
          ]
        },
        {
          "output_type": "display_data",
          "data": {
            "text/plain": [
              "<IPython.core.display.HTML object>"
            ],
            "text/html": [
              "<div><iframe src=\"https://6e2a8e504a144cd72b.gradio.live\" width=\"100%\" height=\"500\" allow=\"autoplay; camera; microphone; clipboard-read; clipboard-write;\" frameborder=\"0\" allowfullscreen></iframe></div>"
            ]
          },
          "metadata": {}
        },
        {
          "output_type": "execute_result",
          "data": {
            "text/plain": []
          },
          "metadata": {},
          "execution_count": 63
        }
      ]
    }
  ]
}